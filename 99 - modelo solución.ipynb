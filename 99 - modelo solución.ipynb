{
  "cells": [
    {
      "cell_type": "markdown",
      "metadata": {
        "id": "view-in-github",
        "colab_type": "text"
      },
      "source": [
        "<a href=\"https://colab.research.google.com/github/JuanPablo-Ramos/ProyectoKaggle/blob/main/99%20-%20modelo%20soluci%C3%B3n.ipynb\" target=\"_parent\"><img src=\"https://colab.research.google.com/assets/colab-badge.svg\" alt=\"Open In Colab\"/></a>"
      ]
    },
    {
      "cell_type": "markdown",
      "id": "098b8e5e",
      "metadata": {
        "id": "098b8e5e"
      },
      "source": [
        "# LightGBM Optimizado\n",
        "\n",
        "Este notebook implementa:\n",
        "1. Downcast de tipos para reducir RAM\n",
        "2. Frequency Encoding de variables categóricas\n",
        "3. Entrenamiento LightGBM con OOF para importar feature importance\n",
        "4. Selección de características basada en importancia\n",
        "5. Retraining en features seleccionados\n",
        "6. Generación de `submission.csv`\n",
        "Objetivo: mejorar accuracy sin sacrificar uso de memoria."
      ]
    },
    {
      "cell_type": "code",
      "execution_count": null,
      "id": "82923d16",
      "metadata": {
        "colab": {
          "base_uri": "https://localhost:8080/"
        },
        "id": "82923d16",
        "outputId": "b4940eef-518b-4ed9-fc07-7b151806a478"
      },
      "outputs": [
        {
          "output_type": "stream",
          "name": "stdout",
          "text": [
            "Train shape: (692500, 21)\n",
            "Test shape: (296786, 20)\n"
          ]
        }
      ],
      "source": [
        "import pandas as pd\n",
        "import numpy as np\n",
        "import lightgbm as lgb\n",
        "from sklearn.model_selection import StratifiedKFold\n",
        "from sklearn.metrics import accuracy_score\n",
        "\n",
        "# Cargar datasets\n",
        "train = pd.read_csv('train.csv')\n",
        "test  = pd.read_csv('test.csv')\n",
        "print('Train shape:', train.shape)\n",
        "print('Test shape:', test.shape)"
      ]
    },
    {
      "cell_type": "markdown",
      "metadata": {
        "id": "12kd3Jxvy5Pk"
      },
      "source": [
        "---\n",
        "- Esta sección optimiza el uso de memoria del dataset al reducir el tipo de datos numéricos a representaciones más pequeñas cuando es posible, como convertir `int64` a `int32` o `float64` a `float32`.\n"
      ],
      "id": "12kd3Jxvy5Pk"
    },
    {
      "cell_type": "code",
      "execution_count": null,
      "id": "976a5e52",
      "metadata": {
        "colab": {
          "base_uri": "https://localhost:8080/"
        },
        "id": "976a5e52",
        "outputId": "f9c41719-d35e-41d1-9777-2035cc1b0ca5"
      },
      "outputs": [
        {
          "output_type": "stream",
          "name": "stdout",
          "text": [
            "Downcast completo\n"
          ]
        }
      ],
      "source": [
        "# Downcast de tipos numéricos para reducir uso de memoria\n",
        "for df in (train, test):\n",
        "    ints = df.select_dtypes(include=['int64']).columns\n",
        "    floats = df.select_dtypes(include=['float64']).columns\n",
        "    df[ints] = df[ints].apply(pd.to_numeric, downcast='integer')\n",
        "    df[floats] = df[floats].apply(pd.to_numeric, downcast='float')\n",
        "print('Downcast completo')"
      ]
    },
    {
      "cell_type": "markdown",
      "metadata": {
        "id": "_hcfMaSrzDzk"
      },
      "source": [
        "---\n",
        "- Aquí se aplica Frequency Encoding a las columnas categóricas. Este método reemplaza cada valor categórico por la frecuencia con la que aparece en el conjunto de datos de entrenamiento. Esto ayuda al modelo a capturar información sobre la distribución de las categorías."
      ],
      "id": "_hcfMaSrzDzk"
    },
    {
      "cell_type": "code",
      "execution_count": null,
      "id": "af424061",
      "metadata": {
        "colab": {
          "base_uri": "https://localhost:8080/"
        },
        "id": "af424061",
        "outputId": "7ed40c05-b884-4732-9ec1-6cde61484e28"
      },
      "outputs": [
        {
          "output_type": "stream",
          "name": "stdout",
          "text": [
            "Nuevos features count: 19\n"
          ]
        }
      ],
      "source": [
        "# Frequency Encoding de categóricas\n",
        "TARGET = 'RENDIMIENTO_GLOBAL'\n",
        "IDCOL = 'ID'\n",
        "features = [c for c in train.columns if c not in [IDCOL, TARGET]]\n",
        "cat_cols = train[features].select_dtypes(include=['object']).columns.tolist()\n",
        "for col in cat_cols:\n",
        "    freq = train[col].value_counts(normalize=True)\n",
        "    train[col+'_fe'] = train[col].map(freq)\n",
        "    test[col+'_fe']  = test[col].map(freq).fillna(0)\n",
        "fe_cols = [c+'_fe' for c in cat_cols]\n",
        "features = [c for c in features if c not in cat_cols] + fe_cols\n",
        "print('Nuevos features count:', len(features))"
      ]
    },
    {
      "cell_type": "markdown",
      "metadata": {
        "id": "1eMaV33FzJVz"
      },
      "source": [
        "---\n",
        "- Esta sección realiza el entrenamiento inicial de un modelo LightGBM utilizando validación cruzada estratificada (OOF - Out-of-Fold). Durante este proceso, se calculan las importancias de las características, lo que indica cuánto contribuye cada característica a las predicciones del modelo."
      ],
      "id": "1eMaV33FzJVz"
    },
    {
      "cell_type": "code",
      "execution_count": null,
      "id": "557666a5",
      "metadata": {
        "colab": {
          "base_uri": "https://localhost:8080/",
          "height": 819
        },
        "id": "557666a5",
        "outputId": "5df577cb-431e-4df4-c621-2fd959ad6868"
      },
      "outputs": [
        {
          "output_type": "stream",
          "name": "stdout",
          "text": [
            "Training until validation scores don't improve for 50 rounds\n",
            "Did not meet early stopping. Best iteration is:\n",
            "[498]\tvalid_0's multi_logloss: 1.2042\n",
            "Training until validation scores don't improve for 50 rounds\n",
            "Did not meet early stopping. Best iteration is:\n",
            "[500]\tvalid_0's multi_logloss: 1.20695\n",
            "Training until validation scores don't improve for 50 rounds\n",
            "Did not meet early stopping. Best iteration is:\n",
            "[500]\tvalid_0's multi_logloss: 1.20619\n",
            "OOF Accuracy inicial: 0.4313\n"
          ]
        },
        {
          "output_type": "execute_result",
          "data": {
            "text/plain": [
              "                              feature     importance\n",
              "7   ESTU_VALORMATRICULAUNIVERSIDAD_fe  517993.999893\n",
              "5              ESTU_PRGM_ACADEMICO_fe  285942.227938\n",
              "6           ESTU_PRGM_DEPARTAMENTO_fe  183538.306017\n",
              "1                              coef_1  117558.721625\n",
              "18             FAMI_EDUCACIONMADRE_fe   84055.794396\n",
              "15        ESTU_PAGOMATRICULAPROPIO_fe   62647.733063\n",
              "11             FAMI_EDUCACIONPADRE_fe   60184.119851\n",
              "2                              coef_2   53195.322773\n",
              "8          ESTU_HORASSEMANATRABAJA_fe   48990.603639\n",
              "0                             PERIODO   41709.453107\n",
              "16            FAMI_TIENECOMPUTADOR_fe   31044.099802\n",
              "3                              coef_3   28605.416421\n",
              "4                              coef_4   28421.981328\n",
              "10              FAMI_TIENEINTERNET_fe   22514.535722\n",
              "9             FAMI_ESTRATOVIVIENDA_fe   20214.281234\n",
              "13             FAMI_TIENEAUTOMOVIL_fe   11779.604148\n",
              "12              FAMI_TIENELAVADORA_fe   11034.945352\n",
              "17            FAMI_TIENEINTERNET.1_fe    2849.883346\n",
              "14           ESTU_PRIVADO_LIBERTAD_fe       0.000000"
            ],
            "text/html": [
              "\n",
              "  <div id=\"df-15962e59-72b7-4f83-9817-be61355587e6\" class=\"colab-df-container\">\n",
              "    <div>\n",
              "<style scoped>\n",
              "    .dataframe tbody tr th:only-of-type {\n",
              "        vertical-align: middle;\n",
              "    }\n",
              "\n",
              "    .dataframe tbody tr th {\n",
              "        vertical-align: top;\n",
              "    }\n",
              "\n",
              "    .dataframe thead th {\n",
              "        text-align: right;\n",
              "    }\n",
              "</style>\n",
              "<table border=\"1\" class=\"dataframe\">\n",
              "  <thead>\n",
              "    <tr style=\"text-align: right;\">\n",
              "      <th></th>\n",
              "      <th>feature</th>\n",
              "      <th>importance</th>\n",
              "    </tr>\n",
              "  </thead>\n",
              "  <tbody>\n",
              "    <tr>\n",
              "      <th>7</th>\n",
              "      <td>ESTU_VALORMATRICULAUNIVERSIDAD_fe</td>\n",
              "      <td>517993.999893</td>\n",
              "    </tr>\n",
              "    <tr>\n",
              "      <th>5</th>\n",
              "      <td>ESTU_PRGM_ACADEMICO_fe</td>\n",
              "      <td>285942.227938</td>\n",
              "    </tr>\n",
              "    <tr>\n",
              "      <th>6</th>\n",
              "      <td>ESTU_PRGM_DEPARTAMENTO_fe</td>\n",
              "      <td>183538.306017</td>\n",
              "    </tr>\n",
              "    <tr>\n",
              "      <th>1</th>\n",
              "      <td>coef_1</td>\n",
              "      <td>117558.721625</td>\n",
              "    </tr>\n",
              "    <tr>\n",
              "      <th>18</th>\n",
              "      <td>FAMI_EDUCACIONMADRE_fe</td>\n",
              "      <td>84055.794396</td>\n",
              "    </tr>\n",
              "    <tr>\n",
              "      <th>15</th>\n",
              "      <td>ESTU_PAGOMATRICULAPROPIO_fe</td>\n",
              "      <td>62647.733063</td>\n",
              "    </tr>\n",
              "    <tr>\n",
              "      <th>11</th>\n",
              "      <td>FAMI_EDUCACIONPADRE_fe</td>\n",
              "      <td>60184.119851</td>\n",
              "    </tr>\n",
              "    <tr>\n",
              "      <th>2</th>\n",
              "      <td>coef_2</td>\n",
              "      <td>53195.322773</td>\n",
              "    </tr>\n",
              "    <tr>\n",
              "      <th>8</th>\n",
              "      <td>ESTU_HORASSEMANATRABAJA_fe</td>\n",
              "      <td>48990.603639</td>\n",
              "    </tr>\n",
              "    <tr>\n",
              "      <th>0</th>\n",
              "      <td>PERIODO</td>\n",
              "      <td>41709.453107</td>\n",
              "    </tr>\n",
              "    <tr>\n",
              "      <th>16</th>\n",
              "      <td>FAMI_TIENECOMPUTADOR_fe</td>\n",
              "      <td>31044.099802</td>\n",
              "    </tr>\n",
              "    <tr>\n",
              "      <th>3</th>\n",
              "      <td>coef_3</td>\n",
              "      <td>28605.416421</td>\n",
              "    </tr>\n",
              "    <tr>\n",
              "      <th>4</th>\n",
              "      <td>coef_4</td>\n",
              "      <td>28421.981328</td>\n",
              "    </tr>\n",
              "    <tr>\n",
              "      <th>10</th>\n",
              "      <td>FAMI_TIENEINTERNET_fe</td>\n",
              "      <td>22514.535722</td>\n",
              "    </tr>\n",
              "    <tr>\n",
              "      <th>9</th>\n",
              "      <td>FAMI_ESTRATOVIVIENDA_fe</td>\n",
              "      <td>20214.281234</td>\n",
              "    </tr>\n",
              "    <tr>\n",
              "      <th>13</th>\n",
              "      <td>FAMI_TIENEAUTOMOVIL_fe</td>\n",
              "      <td>11779.604148</td>\n",
              "    </tr>\n",
              "    <tr>\n",
              "      <th>12</th>\n",
              "      <td>FAMI_TIENELAVADORA_fe</td>\n",
              "      <td>11034.945352</td>\n",
              "    </tr>\n",
              "    <tr>\n",
              "      <th>17</th>\n",
              "      <td>FAMI_TIENEINTERNET.1_fe</td>\n",
              "      <td>2849.883346</td>\n",
              "    </tr>\n",
              "    <tr>\n",
              "      <th>14</th>\n",
              "      <td>ESTU_PRIVADO_LIBERTAD_fe</td>\n",
              "      <td>0.000000</td>\n",
              "    </tr>\n",
              "  </tbody>\n",
              "</table>\n",
              "</div>\n",
              "    <div class=\"colab-df-buttons\">\n",
              "\n",
              "  <div class=\"colab-df-container\">\n",
              "    <button class=\"colab-df-convert\" onclick=\"convertToInteractive('df-15962e59-72b7-4f83-9817-be61355587e6')\"\n",
              "            title=\"Convert this dataframe to an interactive table.\"\n",
              "            style=\"display:none;\">\n",
              "\n",
              "  <svg xmlns=\"http://www.w3.org/2000/svg\" height=\"24px\" viewBox=\"0 -960 960 960\">\n",
              "    <path d=\"M120-120v-720h720v720H120Zm60-500h600v-160H180v160Zm220 220h160v-160H400v160Zm0 220h160v-160H400v160ZM180-400h160v-160H180v160Zm440 0h160v-160H620v160ZM180-180h160v-160H180v160Zm440 0h160v-160H620v160Z\"/>\n",
              "  </svg>\n",
              "    </button>\n",
              "\n",
              "  <style>\n",
              "    .colab-df-container {\n",
              "      display:flex;\n",
              "      gap: 12px;\n",
              "    }\n",
              "\n",
              "    .colab-df-convert {\n",
              "      background-color: #E8F0FE;\n",
              "      border: none;\n",
              "      border-radius: 50%;\n",
              "      cursor: pointer;\n",
              "      display: none;\n",
              "      fill: #1967D2;\n",
              "      height: 32px;\n",
              "      padding: 0 0 0 0;\n",
              "      width: 32px;\n",
              "    }\n",
              "\n",
              "    .colab-df-convert:hover {\n",
              "      background-color: #E2EBFA;\n",
              "      box-shadow: 0px 1px 2px rgba(60, 64, 67, 0.3), 0px 1px 3px 1px rgba(60, 64, 67, 0.15);\n",
              "      fill: #174EA6;\n",
              "    }\n",
              "\n",
              "    .colab-df-buttons div {\n",
              "      margin-bottom: 4px;\n",
              "    }\n",
              "\n",
              "    [theme=dark] .colab-df-convert {\n",
              "      background-color: #3B4455;\n",
              "      fill: #D2E3FC;\n",
              "    }\n",
              "\n",
              "    [theme=dark] .colab-df-convert:hover {\n",
              "      background-color: #434B5C;\n",
              "      box-shadow: 0px 1px 3px 1px rgba(0, 0, 0, 0.15);\n",
              "      filter: drop-shadow(0px 1px 2px rgba(0, 0, 0, 0.3));\n",
              "      fill: #FFFFFF;\n",
              "    }\n",
              "  </style>\n",
              "\n",
              "    <script>\n",
              "      const buttonEl =\n",
              "        document.querySelector('#df-15962e59-72b7-4f83-9817-be61355587e6 button.colab-df-convert');\n",
              "      buttonEl.style.display =\n",
              "        google.colab.kernel.accessAllowed ? 'block' : 'none';\n",
              "\n",
              "      async function convertToInteractive(key) {\n",
              "        const element = document.querySelector('#df-15962e59-72b7-4f83-9817-be61355587e6');\n",
              "        const dataTable =\n",
              "          await google.colab.kernel.invokeFunction('convertToInteractive',\n",
              "                                                    [key], {});\n",
              "        if (!dataTable) return;\n",
              "\n",
              "        const docLinkHtml = 'Like what you see? Visit the ' +\n",
              "          '<a target=\"_blank\" href=https://colab.research.google.com/notebooks/data_table.ipynb>data table notebook</a>'\n",
              "          + ' to learn more about interactive tables.';\n",
              "        element.innerHTML = '';\n",
              "        dataTable['output_type'] = 'display_data';\n",
              "        await google.colab.output.renderOutput(dataTable, element);\n",
              "        const docLink = document.createElement('div');\n",
              "        docLink.innerHTML = docLinkHtml;\n",
              "        element.appendChild(docLink);\n",
              "      }\n",
              "    </script>\n",
              "  </div>\n",
              "\n",
              "\n",
              "    <div id=\"df-5ed11839-c94f-43c5-bc7a-9dbc9dee0e29\">\n",
              "      <button class=\"colab-df-quickchart\" onclick=\"quickchart('df-5ed11839-c94f-43c5-bc7a-9dbc9dee0e29')\"\n",
              "                title=\"Suggest charts\"\n",
              "                style=\"display:none;\">\n",
              "\n",
              "<svg xmlns=\"http://www.w3.org/2000/svg\" height=\"24px\"viewBox=\"0 0 24 24\"\n",
              "     width=\"24px\">\n",
              "    <g>\n",
              "        <path d=\"M19 3H5c-1.1 0-2 .9-2 2v14c0 1.1.9 2 2 2h14c1.1 0 2-.9 2-2V5c0-1.1-.9-2-2-2zM9 17H7v-7h2v7zm4 0h-2V7h2v10zm4 0h-2v-4h2v4z\"/>\n",
              "    </g>\n",
              "</svg>\n",
              "      </button>\n",
              "\n",
              "<style>\n",
              "  .colab-df-quickchart {\n",
              "      --bg-color: #E8F0FE;\n",
              "      --fill-color: #1967D2;\n",
              "      --hover-bg-color: #E2EBFA;\n",
              "      --hover-fill-color: #174EA6;\n",
              "      --disabled-fill-color: #AAA;\n",
              "      --disabled-bg-color: #DDD;\n",
              "  }\n",
              "\n",
              "  [theme=dark] .colab-df-quickchart {\n",
              "      --bg-color: #3B4455;\n",
              "      --fill-color: #D2E3FC;\n",
              "      --hover-bg-color: #434B5C;\n",
              "      --hover-fill-color: #FFFFFF;\n",
              "      --disabled-bg-color: #3B4455;\n",
              "      --disabled-fill-color: #666;\n",
              "  }\n",
              "\n",
              "  .colab-df-quickchart {\n",
              "    background-color: var(--bg-color);\n",
              "    border: none;\n",
              "    border-radius: 50%;\n",
              "    cursor: pointer;\n",
              "    display: none;\n",
              "    fill: var(--fill-color);\n",
              "    height: 32px;\n",
              "    padding: 0;\n",
              "    width: 32px;\n",
              "  }\n",
              "\n",
              "  .colab-df-quickchart:hover {\n",
              "    background-color: var(--hover-bg-color);\n",
              "    box-shadow: 0 1px 2px rgba(60, 64, 67, 0.3), 0 1px 3px 1px rgba(60, 64, 67, 0.15);\n",
              "    fill: var(--button-hover-fill-color);\n",
              "  }\n",
              "\n",
              "  .colab-df-quickchart-complete:disabled,\n",
              "  .colab-df-quickchart-complete:disabled:hover {\n",
              "    background-color: var(--disabled-bg-color);\n",
              "    fill: var(--disabled-fill-color);\n",
              "    box-shadow: none;\n",
              "  }\n",
              "\n",
              "  .colab-df-spinner {\n",
              "    border: 2px solid var(--fill-color);\n",
              "    border-color: transparent;\n",
              "    border-bottom-color: var(--fill-color);\n",
              "    animation:\n",
              "      spin 1s steps(1) infinite;\n",
              "  }\n",
              "\n",
              "  @keyframes spin {\n",
              "    0% {\n",
              "      border-color: transparent;\n",
              "      border-bottom-color: var(--fill-color);\n",
              "      border-left-color: var(--fill-color);\n",
              "    }\n",
              "    20% {\n",
              "      border-color: transparent;\n",
              "      border-left-color: var(--fill-color);\n",
              "      border-top-color: var(--fill-color);\n",
              "    }\n",
              "    30% {\n",
              "      border-color: transparent;\n",
              "      border-left-color: var(--fill-color);\n",
              "      border-top-color: var(--fill-color);\n",
              "      border-right-color: var(--fill-color);\n",
              "    }\n",
              "    40% {\n",
              "      border-color: transparent;\n",
              "      border-right-color: var(--fill-color);\n",
              "      border-top-color: var(--fill-color);\n",
              "    }\n",
              "    60% {\n",
              "      border-color: transparent;\n",
              "      border-right-color: var(--fill-color);\n",
              "    }\n",
              "    80% {\n",
              "      border-color: transparent;\n",
              "      border-right-color: var(--fill-color);\n",
              "      border-bottom-color: var(--fill-color);\n",
              "    }\n",
              "    90% {\n",
              "      border-color: transparent;\n",
              "      border-bottom-color: var(--fill-color);\n",
              "    }\n",
              "  }\n",
              "</style>\n",
              "\n",
              "      <script>\n",
              "        async function quickchart(key) {\n",
              "          const quickchartButtonEl =\n",
              "            document.querySelector('#' + key + ' button');\n",
              "          quickchartButtonEl.disabled = true;  // To prevent multiple clicks.\n",
              "          quickchartButtonEl.classList.add('colab-df-spinner');\n",
              "          try {\n",
              "            const charts = await google.colab.kernel.invokeFunction(\n",
              "                'suggestCharts', [key], {});\n",
              "          } catch (error) {\n",
              "            console.error('Error during call to suggestCharts:', error);\n",
              "          }\n",
              "          quickchartButtonEl.classList.remove('colab-df-spinner');\n",
              "          quickchartButtonEl.classList.add('colab-df-quickchart-complete');\n",
              "        }\n",
              "        (() => {\n",
              "          let quickchartButtonEl =\n",
              "            document.querySelector('#df-5ed11839-c94f-43c5-bc7a-9dbc9dee0e29 button');\n",
              "          quickchartButtonEl.style.display =\n",
              "            google.colab.kernel.accessAllowed ? 'block' : 'none';\n",
              "        })();\n",
              "      </script>\n",
              "    </div>\n",
              "\n",
              "    </div>\n",
              "  </div>\n"
            ],
            "application/vnd.google.colaboratory.intrinsic+json": {
              "type": "dataframe",
              "variable_name": "imp_df",
              "summary": "{\n  \"name\": \"imp_df\",\n  \"rows\": 19,\n  \"fields\": [\n    {\n      \"column\": \"feature\",\n      \"properties\": {\n        \"dtype\": \"string\",\n        \"num_unique_values\": 19,\n        \"samples\": [\n          \"ESTU_VALORMATRICULAUNIVERSIDAD_fe\",\n          \"ESTU_PAGOMATRICULAPROPIO_fe\",\n          \"coef_3\"\n        ],\n        \"semantic_type\": \"\",\n        \"description\": \"\"\n      }\n    },\n    {\n      \"column\": \"importance\",\n      \"properties\": {\n        \"dtype\": \"number\",\n        \"std\": 126079.70828210682,\n        \"min\": 0.0,\n        \"max\": 517993.9998926322,\n        \"num_unique_values\": 19,\n        \"samples\": [\n          517993.9998926322,\n          62647.733063181244,\n          28605.416421175003\n        ],\n        \"semantic_type\": \"\",\n        \"description\": \"\"\n      }\n    }\n  ]\n}"
            }
          },
          "metadata": {},
          "execution_count": 6
        }
      ],
      "source": [
        "# OOF LightGBM y cálculo de importancias\n",
        "X = train[features]\n",
        "y = train[TARGET]\n",
        "\n",
        "# Codificar variable objetivo\n",
        "from sklearn.preprocessing import LabelEncoder\n",
        "le = LabelEncoder()\n",
        "y_encoded = le.fit_transform(y)\n",
        "\n",
        "skf = StratifiedKFold(n_splits=3, shuffle=True, random_state=42)\n",
        "oof_pred = np.zeros(len(train), dtype=int)\n",
        "imp_vals = np.zeros(len(features), dtype=float)\n",
        "lgb_params = {\n",
        "    'objective': 'multiclass', 'num_class': len(le.classes_),\n",
        "    'learning_rate': 0.05, 'num_leaves': 31,\n",
        "    'feature_fraction': 0.8, 'bagging_fraction': 0.8, 'bagging_freq': 5,\n",
        "    'metric': 'multi_logloss', 'verbose': -1\n",
        "}\n",
        "for tr_idx, val_idx in skf.split(X, y_encoded):\n",
        "    dtrain = lgb.Dataset(X.iloc[tr_idx], label=y_encoded[tr_idx])\n",
        "    dval   = lgb.Dataset(X.iloc[val_idx], label=y_encoded[val_idx])\n",
        "    model = lgb.train(\n",
        "        params=lgb_params, train_set=dtrain, num_boost_round=500,\n",
        "        valid_sets=[dval], callbacks=[lgb.early_stopping(stopping_rounds=50, verbose=100)]\n",
        "    )\n",
        "    preds = model.predict(X.iloc[val_idx], num_iteration=model.best_iteration)\n",
        "    oof_pred[val_idx] = np.argmax(preds, axis=1)\n",
        "    imp_vals += model.feature_importance(importance_type='gain')\n",
        "imp_vals /= skf.n_splits\n",
        "acc = accuracy_score(y_encoded, oof_pred)\n",
        "print(f'OOF Accuracy inicial: {acc:.4f}')\n",
        "imp_df = pd.DataFrame({'feature': features, 'importance': imp_vals}).sort_values(by='importance', ascending=False)\n",
        "imp_df.head(20)"
      ]
    },
    {
      "cell_type": "markdown",
      "metadata": {
        "id": "mqrDmmDzzQtb"
      },
      "source": [
        "---\n",
        "- Basándose en las importancias calculadas, esta celda selecciona un subconjunto de características que tienen una importancia por encima de la media. Esto ayuda a reducir la dimensionalidad del problema y potencialmente a mejorar el rendimiento y la generalización del modelo."
      ],
      "id": "mqrDmmDzzQtb"
    },
    {
      "cell_type": "code",
      "execution_count": null,
      "id": "14bee5b4",
      "metadata": {
        "colab": {
          "base_uri": "https://localhost:8080/"
        },
        "id": "14bee5b4",
        "outputId": "128105ff-dd21-4d41-8964-902a84efd7b0"
      },
      "outputs": [
        {
          "output_type": "stream",
          "name": "stdout",
          "text": [
            "Selected 4 features (imp > 84856.8963)\n"
          ]
        }
      ],
      "source": [
        "# Selección de features: importancia mayor a la media\n",
        "mean_imp = imp_df['importance'].mean()\n",
        "selected = imp_df.loc[imp_df['importance'] > mean_imp, 'feature'].tolist()\n",
        "print(f'Selected {len(selected)} features (imp > {mean_imp:.4f})')"
      ]
    },
    {
      "cell_type": "markdown",
      "metadata": {
        "id": "I_Ir9KJRzUgj"
      },
      "source": [
        "---\n",
        "- Finalmente, el modelo LightGBM se re-entrena utilizando únicamente las características seleccionadas. Luego, se generan predicciones en el conjunto de datos de prueba utilizando este modelo re-entrenado. Las predicciones se promedian a través de los folds de validación cruzada, y el resultado final se guarda en un archivo `submission.csv`."
      ],
      "id": "I_Ir9KJRzUgj"
    },
    {
      "cell_type": "code",
      "execution_count": null,
      "id": "34d1b853",
      "metadata": {
        "colab": {
          "base_uri": "https://localhost:8080/"
        },
        "id": "34d1b853",
        "outputId": "dd8d74e5-1b5b-4be1-b40d-71a01707cced"
      },
      "outputs": [
        {
          "output_type": "stream",
          "name": "stdout",
          "text": [
            "Submission creada: submission.csv\n"
          ]
        }
      ],
      "source": [
        "# Retraining con features seleccionados y predicción en test\n",
        "X_sel = train[selected]\n",
        "\n",
        "# Codificar variable objetivo\n",
        "from sklearn.preprocessing import LabelEncoder\n",
        "le = LabelEncoder()\n",
        "y_encoded = le.fit_transform(y)\n",
        "\n",
        "\n",
        "test_pred = np.zeros((len(test), len(y.unique())))\n",
        "for tr_idx, val_idx in skf.split(X_sel, y_encoded):\n",
        "    dtrain = lgb.Dataset(X_sel.iloc[tr_idx], label=y_encoded[tr_idx])\n",
        "    model = lgb.train(lgb_params, dtrain, num_boost_round=model.best_iteration or 500)\n",
        "    test_pred += model.predict(test[selected], num_iteration=model.best_iteration) / skf.n_splits\n",
        "\n",
        "final_labels = np.argmax(test_pred, axis=1)\n",
        "\n",
        "# Decodifica las celdas predichas\n",
        "final_labels_decoded = le.inverse_transform(final_labels)\n",
        "\n",
        "submission = pd.DataFrame({\n",
        "    IDCOL: test[IDCOL],\n",
        "    TARGET: final_labels_decoded\n",
        "})\n",
        "submission.to_csv('submission.csv', index=False)\n",
        "print(\"Submission creada: submission.csv\")"
      ]
    }
  ],
  "metadata": {
    "colab": {
      "provenance": [],
      "include_colab_link": true
    },
    "language_info": {
      "name": "python"
    },
    "kernelspec": {
      "name": "python3",
      "display_name": "Python 3"
    }
  },
  "nbformat": 4,
  "nbformat_minor": 5
}