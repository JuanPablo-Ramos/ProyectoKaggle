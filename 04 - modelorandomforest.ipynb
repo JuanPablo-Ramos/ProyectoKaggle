{
  "metadata": {
    "kernelspec": {
      "name": "python3",
      "display_name": "Python 3",
      "language": "python"
    },
    "language_info": {
      "name": "python",
      "version": "3.11.11",
      "mimetype": "text/x-python",
      "codemirror_mode": {
        "name": "ipython",
        "version": 3
      },
      "pygments_lexer": "ipython3",
      "nbconvert_exporter": "python",
      "file_extension": ".py"
    },
    "colab": {
      "provenance": [],
      "include_colab_link": true
    },
    "kaggle": {
      "accelerator": "none",
      "dataSources": [
        {
          "sourceId": 12345038,
          "sourceType": "datasetVersion",
          "datasetId": 7782519
        }
      ],
      "dockerImageVersionId": 31040,
      "isInternetEnabled": false,
      "language": "python",
      "sourceType": "notebook",
      "isGpuEnabled": false
    }
  },
  "nbformat_minor": 0,
  "nbformat": 4,
  "cells": [
    {
      "cell_type": "markdown",
      "metadata": {
        "id": "view-in-github",
        "colab_type": "text"
      },
      "source": [
        "<a href=\"https://colab.research.google.com/github/JuanPablo-Ramos/ProyectoKaggle/blob/main/04%20-%20modelorandomforest.ipynb\" target=\"_parent\"><img src=\"https://colab.research.google.com/assets/colab-badge.svg\" alt=\"Open In Colab\"/></a>"
      ]
    },
    {
      "cell_type": "markdown",
      "source": [
        "#**UDEA/ai4eng 20251 - Pruebas Saber Pro Colombia**"
      ],
      "metadata": {
        "id": "d95Oi-qqvSdl"
      }
    },
    {
      "cell_type": "markdown",
      "source": [
        "#Importamos las liberías necesarias\n",
        "\n",
        "\n",
        "\n",
        "*   **Pandas y Numpy:** manipulación de datos.\n",
        "\n",
        "*   **SimpleImputer:** para rellenar los valores faltantes.\n",
        "\n",
        "*   **OneHotEncoder, OrdinalEncoder:** para convertir variables categóricas en números.\n",
        "\n",
        "*   **StandardScaler:** para normalizar las variables numéricas (muy útil en muchos modelos).\n",
        "\n"
      ],
      "metadata": {
        "id": "MyWmD0pLvU1h"
      }
    },
    {
      "cell_type": "code",
      "source": [
        "import pandas as pd\n",
        "import numpy as np\n",
        "from sklearn.impute import SimpleImputer\n",
        "from sklearn.preprocessing import OneHotEncoder, OrdinalEncoder, StandardScaler"
      ],
      "metadata": {
        "id": "Z1Vl5l1IjUNU",
        "trusted": true,
        "execution": {
          "iopub.status.busy": "2025-07-01T23:07:25.107924Z",
          "iopub.execute_input": "2025-07-01T23:07:25.108602Z",
          "iopub.status.idle": "2025-07-01T23:07:28.510699Z",
          "shell.execute_reply.started": "2025-07-01T23:07:25.108569Z",
          "shell.execute_reply": "2025-07-01T23:07:28.509531Z"
        }
      },
      "outputs": [],
      "execution_count": null
    },
    {
      "cell_type": "markdown",
      "source": [
        "#Cargamos los datos de `train.csv`"
      ],
      "metadata": {
        "id": "obsCVSxDw9UO"
      }
    },
    {
      "cell_type": "code",
      "source": [
        "import pandas as pd\n",
        "import numpy as np\n",
        "\n",
        "z = pd.read_csv(\"train.csv\")\n",
        "print (\"Se cargaron los datos correctamente\", z.shape)"
      ],
      "metadata": {
        "colab": {
          "base_uri": "https://localhost:8080/"
        },
        "id": "AfBnh40xaKKn",
        "outputId": "0fef0901-4094-4d3c-8a11-a7b5e31cd3a2",
        "trusted": true,
        "execution": {
          "iopub.status.busy": "2025-07-01T23:07:28.512680Z",
          "iopub.execute_input": "2025-07-01T23:07:28.513189Z",
          "iopub.status.idle": "2025-07-01T23:07:33.532475Z",
          "shell.execute_reply.started": "2025-07-01T23:07:28.513161Z",
          "shell.execute_reply": "2025-07-01T23:07:33.531481Z"
        }
      },
      "outputs": [
        {
          "name": "stdout",
          "text": "Se cargaron los datos correctamente (692500, 21)\n",
          "output_type": "stream"
        }
      ],
      "execution_count": null
    },
    {
      "cell_type": "markdown",
      "source": [
        "#Realizamos algunas verificaciones dentro de `train.csv` para analizar el tipo y cantidad de datos"
      ],
      "metadata": {
        "id": "fUfjHtoZxZ-M"
      }
    },
    {
      "cell_type": "code",
      "source": [
        "sum(z.FAMI_EDUCACIONMADRE.isna()), sum(z.ESTU_VALORMATRICULAUNIVERSIDAD.isna())"
      ],
      "metadata": {
        "id": "UriEVJlMaxwd",
        "colab": {
          "base_uri": "https://localhost:8080/"
        },
        "outputId": "3b26e402-dbbe-42f0-ac84-6aef01e978a2",
        "trusted": true,
        "execution": {
          "iopub.status.busy": "2025-07-01T23:07:33.533672Z",
          "iopub.execute_input": "2025-07-01T23:07:33.533954Z",
          "iopub.status.idle": "2025-07-01T23:07:33.716448Z",
          "shell.execute_reply.started": "2025-07-01T23:07:33.533933Z",
          "shell.execute_reply": "2025-07-01T23:07:33.715619Z"
        }
      },
      "outputs": [
        {
          "execution_count": 3,
          "output_type": "execute_result",
          "data": {
            "text/plain": "(23664, 6287)"
          },
          "metadata": {}
        }
      ],
      "execution_count": null
    },
    {
      "cell_type": "code",
      "source": [
        "z.FAMI_EDUCACIONMADRE.values[z.FAMI_EDUCACIONMADRE.isna()] = 'no info'\n",
        "z.ESTU_VALORMATRICULAUNIVERSIDAD.values[z.ESTU_VALORMATRICULAUNIVERSIDAD.isna()] = 'no info'\n",
        "sum(z.FAMI_EDUCACIONMADRE.isna()), sum(z.ESTU_VALORMATRICULAUNIVERSIDAD.isna())"
      ],
      "metadata": {
        "id": "kYTwbtBcbDKV",
        "colab": {
          "base_uri": "https://localhost:8080/"
        },
        "outputId": "1214a0d0-89ee-4f02-a1f2-49d4332b3a72",
        "trusted": true,
        "execution": {
          "iopub.status.busy": "2025-07-01T23:07:33.718885Z",
          "iopub.execute_input": "2025-07-01T23:07:33.719152Z",
          "iopub.status.idle": "2025-07-01T23:07:33.967335Z",
          "shell.execute_reply.started": "2025-07-01T23:07:33.719133Z",
          "shell.execute_reply": "2025-07-01T23:07:33.966474Z"
        }
      },
      "outputs": [
        {
          "execution_count": 4,
          "output_type": "execute_result",
          "data": {
            "text/plain": "(0, 0)"
          },
          "metadata": {}
        }
      ],
      "execution_count": null
    },
    {
      "cell_type": "code",
      "source": [
        "z.isna().sum()"
      ],
      "metadata": {
        "id": "8lCE1s-cbftb",
        "colab": {
          "base_uri": "https://localhost:8080/",
          "height": 743
        },
        "outputId": "afee7340-3019-401c-e63f-a5dc7ebd76fa",
        "trusted": true,
        "execution": {
          "iopub.status.busy": "2025-07-01T23:07:33.968484Z",
          "iopub.execute_input": "2025-07-01T23:07:33.968824Z",
          "iopub.status.idle": "2025-07-01T23:07:34.503679Z",
          "shell.execute_reply.started": "2025-07-01T23:07:33.968799Z",
          "shell.execute_reply": "2025-07-01T23:07:34.502756Z"
        }
      },
      "outputs": [
        {
          "execution_count": 5,
          "output_type": "execute_result",
          "data": {
            "text/plain": "ID                                    0\nPERIODO                               0\nESTU_PRGM_ACADEMICO                   0\nESTU_PRGM_DEPARTAMENTO                0\nESTU_VALORMATRICULAUNIVERSIDAD        0\nESTU_HORASSEMANATRABAJA           30857\nFAMI_ESTRATOVIVIENDA              32137\nFAMI_TIENEINTERNET                26629\nFAMI_EDUCACIONPADRE               23178\nFAMI_TIENELAVADORA                39773\nFAMI_TIENEAUTOMOVIL               43623\nESTU_PRIVADO_LIBERTAD                 0\nESTU_PAGOMATRICULAPROPIO           6498\nFAMI_TIENECOMPUTADOR              38103\nFAMI_TIENEINTERNET.1              26629\nFAMI_EDUCACIONMADRE                   0\nRENDIMIENTO_GLOBAL                    0\ncoef_1                                0\ncoef_2                                0\ncoef_3                                0\ncoef_4                                0\ndtype: int64"
          },
          "metadata": {}
        }
      ],
      "execution_count": null
    },
    {
      "cell_type": "code",
      "source": [
        "z = z.fillna('no info')\n",
        "z.isna().sum()"
      ],
      "metadata": {
        "id": "6-9qeZ_qb0_t",
        "colab": {
          "base_uri": "https://localhost:8080/",
          "height": 743
        },
        "outputId": "98da758a-0124-407b-d43f-6c9dde7c6c39",
        "trusted": true,
        "execution": {
          "iopub.status.busy": "2025-07-01T23:07:34.504631Z",
          "iopub.execute_input": "2025-07-01T23:07:34.504936Z",
          "iopub.status.idle": "2025-07-01T23:07:36.041743Z",
          "shell.execute_reply.started": "2025-07-01T23:07:34.504910Z",
          "shell.execute_reply": "2025-07-01T23:07:36.040504Z"
        }
      },
      "outputs": [
        {
          "execution_count": 6,
          "output_type": "execute_result",
          "data": {
            "text/plain": "ID                                0\nPERIODO                           0\nESTU_PRGM_ACADEMICO               0\nESTU_PRGM_DEPARTAMENTO            0\nESTU_VALORMATRICULAUNIVERSIDAD    0\nESTU_HORASSEMANATRABAJA           0\nFAMI_ESTRATOVIVIENDA              0\nFAMI_TIENEINTERNET                0\nFAMI_EDUCACIONPADRE               0\nFAMI_TIENELAVADORA                0\nFAMI_TIENEAUTOMOVIL               0\nESTU_PRIVADO_LIBERTAD             0\nESTU_PAGOMATRICULAPROPIO          0\nFAMI_TIENECOMPUTADOR              0\nFAMI_TIENEINTERNET.1              0\nFAMI_EDUCACIONMADRE               0\nRENDIMIENTO_GLOBAL                0\ncoef_1                            0\ncoef_2                            0\ncoef_3                            0\ncoef_4                            0\ndtype: int64"
          },
          "metadata": {}
        }
      ],
      "execution_count": null
    },
    {
      "cell_type": "code",
      "source": [
        "cmap = {'Entre 1 millón y menos de 2.5 millones': 1.75,\n",
        " 'Entre 2.5 millones y menos de 4 millones': 3.25,\n",
        " 'Menos de 500 mil': .250,\n",
        " 'Entre 500 mil y menos de 1 millón': .75,\n",
        " 'Entre 4 millones y menos de 5.5 millones': 4.75,\n",
        " 'Más de 7 millones': 7.75,\n",
        " 'Entre 5.5 millones y menos de 7 millones': 6.25,\n",
        " 'No pagó matrícula': 0,\n",
        " 'no info': -1}\n",
        "\n",
        "z.ESTU_VALORMATRICULAUNIVERSIDAD = np.r_[[cmap[i] for i in z.ESTU_VALORMATRICULAUNIVERSIDAD]]\n",
        "z.ESTU_VALORMATRICULAUNIVERSIDAD.value_counts()"
      ],
      "metadata": {
        "id": "0WbO7R0RcbbQ",
        "colab": {
          "base_uri": "https://localhost:8080/",
          "height": 398
        },
        "outputId": "80d477a5-c0b4-47ad-ed6a-ada636d6f1f7",
        "trusted": true,
        "execution": {
          "iopub.status.busy": "2025-07-01T23:07:36.042898Z",
          "iopub.execute_input": "2025-07-01T23:07:36.043291Z",
          "iopub.status.idle": "2025-07-01T23:07:36.245830Z",
          "shell.execute_reply.started": "2025-07-01T23:07:36.043256Z",
          "shell.execute_reply": "2025-07-01T23:07:36.244948Z"
        }
      },
      "outputs": [
        {
          "execution_count": 7,
          "output_type": "execute_result",
          "data": {
            "text/plain": "ESTU_VALORMATRICULAUNIVERSIDAD\n 1.75    204048\n 3.25    127430\n 0.25     80263\n 0.75     78704\n 4.75     69736\n 7.75     68014\n 6.25     38490\n 0.00     19528\n-1.00      6287\nName: count, dtype: int64"
          },
          "metadata": {}
        }
      ],
      "execution_count": null
    },
    {
      "cell_type": "code",
      "source": [
        "# Dimensiones y columnas\n",
        "print(\"Filas y columnas:\", z.shape)\n",
        "print(\"Columnas:\", z.columns.tolist())"
      ],
      "metadata": {
        "id": "lOFclWFgjZ8z",
        "colab": {
          "base_uri": "https://localhost:8080/"
        },
        "outputId": "dc140c72-4b95-4086-9052-708bc856809b",
        "trusted": true,
        "execution": {
          "iopub.status.busy": "2025-07-01T23:07:36.246630Z",
          "iopub.execute_input": "2025-07-01T23:07:36.246877Z",
          "iopub.status.idle": "2025-07-01T23:07:36.252403Z",
          "shell.execute_reply.started": "2025-07-01T23:07:36.246857Z",
          "shell.execute_reply": "2025-07-01T23:07:36.251371Z"
        }
      },
      "outputs": [
        {
          "name": "stdout",
          "text": "Filas y columnas: (692500, 21)\nColumnas: ['ID', 'PERIODO', 'ESTU_PRGM_ACADEMICO', 'ESTU_PRGM_DEPARTAMENTO', 'ESTU_VALORMATRICULAUNIVERSIDAD', 'ESTU_HORASSEMANATRABAJA', 'FAMI_ESTRATOVIVIENDA', 'FAMI_TIENEINTERNET', 'FAMI_EDUCACIONPADRE', 'FAMI_TIENELAVADORA', 'FAMI_TIENEAUTOMOVIL', 'ESTU_PRIVADO_LIBERTAD', 'ESTU_PAGOMATRICULAPROPIO', 'FAMI_TIENECOMPUTADOR', 'FAMI_TIENEINTERNET.1', 'FAMI_EDUCACIONMADRE', 'RENDIMIENTO_GLOBAL', 'coef_1', 'coef_2', 'coef_3', 'coef_4']\n",
          "output_type": "stream"
        }
      ],
      "execution_count": null
    },
    {
      "cell_type": "markdown",
      "source": [
        "#Separación del objetivo y elminación de columnas irrelevantes\n",
        "\n",
        "*   `RENDIMIENTO_GLOBAL` será nuestro target y variable a predecir, por lo tanto, la separamos.\n",
        "\n",
        "\n",
        "\n",
        "\n",
        "*   `ID` Y `PERIODO` son columnas que no aportan valor predictivo:\n",
        "    `ID` es un identificador único y `PERIODO` pordría introducir un sesgo temporal\n",
        "\n"
      ],
      "metadata": {
        "id": "RISAV4u_xyFh"
      }
    },
    {
      "cell_type": "code",
      "source": [
        "# Eliminar columnas de ID y PERIODO\n",
        "z = z.drop(columns=[\"ID\", \"PERIODO\"])\n",
        "target = z[\"RENDIMIENTO_GLOBAL\"]\n",
        "z = z.drop(columns=[\"RENDIMIENTO_GLOBAL\"])"
      ],
      "metadata": {
        "id": "xQKdZPSGj4m4",
        "trusted": true,
        "execution": {
          "iopub.status.busy": "2025-07-01T23:07:36.253611Z",
          "iopub.execute_input": "2025-07-01T23:07:36.253991Z",
          "iopub.status.idle": "2025-07-01T23:07:36.498228Z",
          "shell.execute_reply.started": "2025-07-01T23:07:36.253961Z",
          "shell.execute_reply": "2025-07-01T23:07:36.497150Z"
        }
      },
      "outputs": [],
      "execution_count": null
    },
    {
      "cell_type": "markdown",
      "source": [
        "#Identificación de tipos de columnas\n",
        "\n",
        "En este campo lo que hacemos es disntinguir entre cuales son nuestras variables categóricas (`categorical_cols`) y cuales son numéricas (`numerical_cols`)"
      ],
      "metadata": {
        "id": "-ZAuRqXgy7j2"
      }
    },
    {
      "cell_type": "code",
      "source": [
        "categorical_cols = z.select_dtypes(include=\"object\").columns.tolist()\n",
        "numerical_cols = z.select_dtypes(include=[\"int64\", \"float64\"]).columns.tolist()\n",
        "print(\"Categorical:\", categorical_cols)\n",
        "print(\"Numerical:\", numerical_cols)\n"
      ],
      "metadata": {
        "id": "8UcHTIYPkOzU",
        "colab": {
          "base_uri": "https://localhost:8080/"
        },
        "outputId": "61c68ef4-33d2-4397-9871-36ccfdfac405",
        "trusted": true,
        "execution": {
          "iopub.status.busy": "2025-07-01T23:07:36.500884Z",
          "iopub.execute_input": "2025-07-01T23:07:36.501163Z",
          "iopub.status.idle": "2025-07-01T23:07:36.988646Z",
          "shell.execute_reply.started": "2025-07-01T23:07:36.501142Z",
          "shell.execute_reply": "2025-07-01T23:07:36.987562Z"
        }
      },
      "outputs": [
        {
          "name": "stdout",
          "text": "Categorical: ['ESTU_PRGM_ACADEMICO', 'ESTU_PRGM_DEPARTAMENTO', 'ESTU_HORASSEMANATRABAJA', 'FAMI_ESTRATOVIVIENDA', 'FAMI_TIENEINTERNET', 'FAMI_EDUCACIONPADRE', 'FAMI_TIENELAVADORA', 'FAMI_TIENEAUTOMOVIL', 'ESTU_PRIVADO_LIBERTAD', 'ESTU_PAGOMATRICULAPROPIO', 'FAMI_TIENECOMPUTADOR', 'FAMI_TIENEINTERNET.1', 'FAMI_EDUCACIONMADRE']\nNumerical: ['ESTU_VALORMATRICULAUNIVERSIDAD', 'coef_1', 'coef_2', 'coef_3', 'coef_4']\n",
          "output_type": "stream"
        }
      ],
      "execution_count": null
    },
    {
      "cell_type": "markdown",
      "source": [
        "#Imputación de datos faltantes\n",
        "\n",
        "\n",
        "\n",
        "*   Rellenamos las variables categòricas con el valor más frecuente (moda).\n",
        "\n",
        "*   Rellenamos las variables numéricas con la media, esto para no sesgar mucho los datos.\n",
        "\n"
      ],
      "metadata": {
        "id": "Kt2nxdhj0YoI"
      }
    },
    {
      "cell_type": "code",
      "source": [
        "#Imputación datos faltantes\n",
        "cat_imputer = SimpleImputer(strategy=\"most_frequent\")\n",
        "num_imputer = SimpleImputer(strategy=\"mean\")\n",
        "\n",
        "z[categorical_cols] = cat_imputer.fit_transform(z[categorical_cols])\n",
        "z[numerical_cols] = num_imputer.fit_transform(z[numerical_cols])\n",
        "\n",
        "\n"
      ],
      "metadata": {
        "id": "iKBB5aCVkht7",
        "trusted": true,
        "execution": {
          "iopub.status.busy": "2025-07-01T23:07:36.989652Z",
          "iopub.execute_input": "2025-07-01T23:07:36.989929Z",
          "iopub.status.idle": "2025-07-01T23:07:39.293959Z",
          "shell.execute_reply.started": "2025-07-01T23:07:36.989908Z",
          "shell.execute_reply": "2025-07-01T23:07:39.292890Z"
        }
      },
      "outputs": [],
      "execution_count": null
    },
    {
      "cell_type": "markdown",
      "source": [
        "#Codificación de variables categóricas\n",
        "\n",
        "Utilizamos `OneHotEncoder` para generar columnas con todas las categorías y tener una codificaciòn más sencilla por cada categoría."
      ],
      "metadata": {
        "id": "DgaeFPRU055_"
      }
    },
    {
      "cell_type": "code",
      "source": [
        "# OneHotEncoding\n",
        "z_categorical = pd.DataFrame(cat_imputer.fit_transform(z[categorical_cols]), columns=categorical_cols)\n",
        "\n",
        "onehot = OneHotEncoder(sparse_output=False, handle_unknown=\"ignore\")\n",
        "z_categorical_encoded = pd.DataFrame(onehot.fit_transform(z_categorical), columns=onehot.get_feature_names_out())"
      ],
      "metadata": {
        "id": "UvJmDO5psXlV",
        "trusted": true,
        "execution": {
          "iopub.status.busy": "2025-07-01T23:07:39.295089Z",
          "iopub.execute_input": "2025-07-01T23:07:39.295514Z",
          "iopub.status.idle": "2025-07-01T23:07:52.687433Z",
          "shell.execute_reply.started": "2025-07-01T23:07:39.295400Z",
          "shell.execute_reply": "2025-07-01T23:07:52.686385Z"
        }
      },
      "outputs": [],
      "execution_count": null
    },
    {
      "cell_type": "markdown",
      "source": [
        "#Normalización de columnas numéricas\n",
        "\n",
        "Necesitamos que los datos estén en una escala similar, esto para tener una mayor facilidad computacional a la hora de compararlos:\n",
        "\n",
        "Usamos `StandardScaler` para convertir estos valores en:\n",
        "\n",
        "\n",
        "*   Media -> 0\n",
        "*   Desviación estándar -> 1\n",
        "\n"
      ],
      "metadata": {
        "id": "9Yu1k2Jb1qz3"
      }
    },
    {
      "cell_type": "code",
      "source": [
        "scaler = StandardScaler()\n",
        "z_num_scaled = pd.DataFrame(scaler.fit_transform(z[numerical_cols]), columns=numerical_cols)"
      ],
      "metadata": {
        "id": "AQgW3-Ph1pmd",
        "trusted": true,
        "execution": {
          "iopub.status.busy": "2025-07-01T23:07:52.688625Z",
          "iopub.execute_input": "2025-07-01T23:07:52.688953Z",
          "iopub.status.idle": "2025-07-01T23:07:52.839516Z",
          "shell.execute_reply.started": "2025-07-01T23:07:52.688931Z",
          "shell.execute_reply": "2025-07-01T23:07:52.838630Z"
        }
      },
      "outputs": [],
      "execution_count": null
    },
    {
      "cell_type": "markdown",
      "source": [
        "#Unión de las variables preprocesadas\n",
        "\n",
        "Finalmente, concatenamos todas las columnas que se oricesaron en un solo Dataframe, y al final le agregamos la columna objetico para que el dataset estè listo para el modelado."
      ],
      "metadata": {
        "id": "by91QcPj2WEC"
      }
    },
    {
      "cell_type": "code",
      "source": [
        "# Concatenar todo\n",
        "z_final = pd.concat([z_categorical_encoded, z_num_scaled], axis=1)\n",
        "z_final[\"RENDIMIENTO_GLOBAL\"]= target.values\n",
        "z_final.head()"
      ],
      "metadata": {
        "id": "Y_PEtSmwlS1n",
        "colab": {
          "base_uri": "https://localhost:8080/",
          "height": 308
        },
        "outputId": "b2c21f77-027b-4576-bbd9-8acfd21ab530",
        "trusted": true,
        "execution": {
          "iopub.status.busy": "2025-07-01T23:07:52.840465Z",
          "iopub.execute_input": "2025-07-01T23:07:52.840828Z",
          "iopub.status.idle": "2025-07-01T23:08:16.873050Z",
          "shell.execute_reply.started": "2025-07-01T23:07:52.840796Z",
          "shell.execute_reply": "2025-07-01T23:08:16.871978Z"
        }
      },
      "outputs": [
        {
          "execution_count": 14,
          "output_type": "execute_result",
          "data": {
            "text/plain": "   ESTU_PRGM_ACADEMICO_3°  CICLO PROFESIONAL NEGOCIOS INTERNACIONALES  \\\n0                                                0.0                    \n1                                                0.0                    \n2                                                0.0                    \n3                                                0.0                    \n4                                                0.0                    \n\n   ESTU_PRGM_ACADEMICO_ACTIVIDAD FISICA Y DEPORTE  \\\n0                                             0.0   \n1                                             0.0   \n2                                             0.0   \n3                                             0.0   \n4                                             0.0   \n\n   ESTU_PRGM_ACADEMICO_ACUICULTURA  ESTU_PRGM_ACADEMICO_ADMINISTRACION  \\\n0                              0.0                                 0.0   \n1                              0.0                                 0.0   \n2                              0.0                                 0.0   \n3                              0.0                                 0.0   \n4                              0.0                                 0.0   \n\n   ESTU_PRGM_ACADEMICO_ADMINISTRACION  FINANCIERA  \\\n0                                             0.0   \n1                                             0.0   \n2                                             0.0   \n3                                             0.0   \n4                                             0.0   \n\n   ESTU_PRGM_ACADEMICO_ADMINISTRACION & SERVICIO  \\\n0                                            0.0   \n1                                            0.0   \n2                                            0.0   \n3                                            0.0   \n4                                            0.0   \n\n   ESTU_PRGM_ACADEMICO_ADMINISTRACION AERONAUTICA  \\\n0                                             0.0   \n1                                             0.0   \n2                                             0.0   \n3                                             0.0   \n4                                             0.0   \n\n   ESTU_PRGM_ACADEMICO_ADMINISTRACION AGROPECUARIA  \\\n0                                              0.0   \n1                                              0.0   \n2                                              0.0   \n3                                              0.0   \n4                                              0.0   \n\n   ESTU_PRGM_ACADEMICO_ADMINISTRACION AMBIENTAL  \\\n0                                           0.0   \n1                                           0.0   \n2                                           0.0   \n3                                           0.0   \n4                                           0.0   \n\n   ESTU_PRGM_ACADEMICO_ADMINISTRACION AMBIENTAL Y DE LOS RECURSOS NATURALES  \\\n0                                                0.0                          \n1                                                0.0                          \n2                                                0.0                          \n3                                                0.0                          \n4                                                0.0                          \n\n   ...  FAMI_EDUCACIONMADRE_Secundaria (Bachillerato) incompleta  \\\n0  ...                                                0.0          \n1  ...                                                0.0          \n2  ...                                                0.0          \n3  ...                                                0.0          \n4  ...                                                0.0          \n\n   FAMI_EDUCACIONMADRE_Técnica o tecnológica completa  \\\n0                                                0.0    \n1                                                0.0    \n2                                                0.0    \n3                                                0.0    \n4                                                0.0    \n\n   FAMI_EDUCACIONMADRE_Técnica o tecnológica incompleta  \\\n0                                                0.0      \n1                                                1.0      \n2                                                0.0      \n3                                                0.0      \n4                                                0.0      \n\n   FAMI_EDUCACIONMADRE_no info  ESTU_VALORMATRICULAUNIVERSIDAD    coef_1  \\\n0                          0.0                        1.482661  0.437002   \n1                          0.0                        0.191253  0.346934   \n2                          0.0                        0.191253  0.232301   \n3                          0.0                        0.836957  1.771650   \n4                          0.0                        0.191253  0.387874   \n\n     coef_2    coef_3    coef_4  RENDIMIENTO_GLOBAL  \n0 -0.556223  0.813978  0.060296          medio-alto  \n1 -0.481341  0.508180  0.016142                bajo  \n2 -0.492038  0.729034  0.016142                bajo  \n3 -0.941332 -0.171371 -1.072993                alto  \n4 -0.299484  0.389259  0.457683          medio-bajo  \n\n[5 rows x 1045 columns]",
            "text/html": "<div>\n<style scoped>\n    .dataframe tbody tr th:only-of-type {\n        vertical-align: middle;\n    }\n\n    .dataframe tbody tr th {\n        vertical-align: top;\n    }\n\n    .dataframe thead th {\n        text-align: right;\n    }\n</style>\n<table border=\"1\" class=\"dataframe\">\n  <thead>\n    <tr style=\"text-align: right;\">\n      <th></th>\n      <th>ESTU_PRGM_ACADEMICO_3°  CICLO PROFESIONAL NEGOCIOS INTERNACIONALES</th>\n      <th>ESTU_PRGM_ACADEMICO_ACTIVIDAD FISICA Y DEPORTE</th>\n      <th>ESTU_PRGM_ACADEMICO_ACUICULTURA</th>\n      <th>ESTU_PRGM_ACADEMICO_ADMINISTRACION</th>\n      <th>ESTU_PRGM_ACADEMICO_ADMINISTRACION  FINANCIERA</th>\n      <th>ESTU_PRGM_ACADEMICO_ADMINISTRACION &amp; SERVICIO</th>\n      <th>ESTU_PRGM_ACADEMICO_ADMINISTRACION AERONAUTICA</th>\n      <th>ESTU_PRGM_ACADEMICO_ADMINISTRACION AGROPECUARIA</th>\n      <th>ESTU_PRGM_ACADEMICO_ADMINISTRACION AMBIENTAL</th>\n      <th>ESTU_PRGM_ACADEMICO_ADMINISTRACION AMBIENTAL Y DE LOS RECURSOS NATURALES</th>\n      <th>...</th>\n      <th>FAMI_EDUCACIONMADRE_Secundaria (Bachillerato) incompleta</th>\n      <th>FAMI_EDUCACIONMADRE_Técnica o tecnológica completa</th>\n      <th>FAMI_EDUCACIONMADRE_Técnica o tecnológica incompleta</th>\n      <th>FAMI_EDUCACIONMADRE_no info</th>\n      <th>ESTU_VALORMATRICULAUNIVERSIDAD</th>\n      <th>coef_1</th>\n      <th>coef_2</th>\n      <th>coef_3</th>\n      <th>coef_4</th>\n      <th>RENDIMIENTO_GLOBAL</th>\n    </tr>\n  </thead>\n  <tbody>\n    <tr>\n      <th>0</th>\n      <td>0.0</td>\n      <td>0.0</td>\n      <td>0.0</td>\n      <td>0.0</td>\n      <td>0.0</td>\n      <td>0.0</td>\n      <td>0.0</td>\n      <td>0.0</td>\n      <td>0.0</td>\n      <td>0.0</td>\n      <td>...</td>\n      <td>0.0</td>\n      <td>0.0</td>\n      <td>0.0</td>\n      <td>0.0</td>\n      <td>1.482661</td>\n      <td>0.437002</td>\n      <td>-0.556223</td>\n      <td>0.813978</td>\n      <td>0.060296</td>\n      <td>medio-alto</td>\n    </tr>\n    <tr>\n      <th>1</th>\n      <td>0.0</td>\n      <td>0.0</td>\n      <td>0.0</td>\n      <td>0.0</td>\n      <td>0.0</td>\n      <td>0.0</td>\n      <td>0.0</td>\n      <td>0.0</td>\n      <td>0.0</td>\n      <td>0.0</td>\n      <td>...</td>\n      <td>0.0</td>\n      <td>0.0</td>\n      <td>1.0</td>\n      <td>0.0</td>\n      <td>0.191253</td>\n      <td>0.346934</td>\n      <td>-0.481341</td>\n      <td>0.508180</td>\n      <td>0.016142</td>\n      <td>bajo</td>\n    </tr>\n    <tr>\n      <th>2</th>\n      <td>0.0</td>\n      <td>0.0</td>\n      <td>0.0</td>\n      <td>0.0</td>\n      <td>0.0</td>\n      <td>0.0</td>\n      <td>0.0</td>\n      <td>0.0</td>\n      <td>0.0</td>\n      <td>0.0</td>\n      <td>...</td>\n      <td>0.0</td>\n      <td>0.0</td>\n      <td>0.0</td>\n      <td>0.0</td>\n      <td>0.191253</td>\n      <td>0.232301</td>\n      <td>-0.492038</td>\n      <td>0.729034</td>\n      <td>0.016142</td>\n      <td>bajo</td>\n    </tr>\n    <tr>\n      <th>3</th>\n      <td>0.0</td>\n      <td>0.0</td>\n      <td>0.0</td>\n      <td>0.0</td>\n      <td>0.0</td>\n      <td>0.0</td>\n      <td>0.0</td>\n      <td>0.0</td>\n      <td>0.0</td>\n      <td>0.0</td>\n      <td>...</td>\n      <td>0.0</td>\n      <td>0.0</td>\n      <td>0.0</td>\n      <td>0.0</td>\n      <td>0.836957</td>\n      <td>1.771650</td>\n      <td>-0.941332</td>\n      <td>-0.171371</td>\n      <td>-1.072993</td>\n      <td>alto</td>\n    </tr>\n    <tr>\n      <th>4</th>\n      <td>0.0</td>\n      <td>0.0</td>\n      <td>0.0</td>\n      <td>0.0</td>\n      <td>0.0</td>\n      <td>0.0</td>\n      <td>0.0</td>\n      <td>0.0</td>\n      <td>0.0</td>\n      <td>0.0</td>\n      <td>...</td>\n      <td>0.0</td>\n      <td>0.0</td>\n      <td>0.0</td>\n      <td>0.0</td>\n      <td>0.191253</td>\n      <td>0.387874</td>\n      <td>-0.299484</td>\n      <td>0.389259</td>\n      <td>0.457683</td>\n      <td>medio-bajo</td>\n    </tr>\n  </tbody>\n</table>\n<p>5 rows × 1045 columns</p>\n</div>"
          },
          "metadata": {}
        }
      ],
      "execution_count": null
    },
    {
      "cell_type": "code",
      "source": [
        "print(z_final.columns)"
      ],
      "metadata": {
        "colab": {
          "base_uri": "https://localhost:8080/"
        },
        "id": "FkPkup5vAX-q",
        "outputId": "308d96fc-0f74-423d-ee2d-d38e4c31ee42",
        "trusted": true,
        "execution": {
          "iopub.status.busy": "2025-07-01T23:08:16.874285Z",
          "iopub.execute_input": "2025-07-01T23:08:16.874668Z",
          "iopub.status.idle": "2025-07-01T23:08:16.881094Z",
          "shell.execute_reply.started": "2025-07-01T23:08:16.874632Z",
          "shell.execute_reply": "2025-07-01T23:08:16.879899Z"
        }
      },
      "outputs": [
        {
          "name": "stdout",
          "text": "Index(['ESTU_PRGM_ACADEMICO_3°  CICLO PROFESIONAL NEGOCIOS INTERNACIONALES',\n       'ESTU_PRGM_ACADEMICO_ACTIVIDAD FISICA Y DEPORTE',\n       'ESTU_PRGM_ACADEMICO_ACUICULTURA', 'ESTU_PRGM_ACADEMICO_ADMINISTRACION',\n       'ESTU_PRGM_ACADEMICO_ADMINISTRACION  FINANCIERA',\n       'ESTU_PRGM_ACADEMICO_ADMINISTRACION & SERVICIO',\n       'ESTU_PRGM_ACADEMICO_ADMINISTRACION AERONAUTICA',\n       'ESTU_PRGM_ACADEMICO_ADMINISTRACION AGROPECUARIA',\n       'ESTU_PRGM_ACADEMICO_ADMINISTRACION AMBIENTAL',\n       'ESTU_PRGM_ACADEMICO_ADMINISTRACION AMBIENTAL Y DE LOS RECURSOS NATURALES',\n       ...\n       'FAMI_EDUCACIONMADRE_Secundaria (Bachillerato) incompleta',\n       'FAMI_EDUCACIONMADRE_Técnica o tecnológica completa',\n       'FAMI_EDUCACIONMADRE_Técnica o tecnológica incompleta',\n       'FAMI_EDUCACIONMADRE_no info', 'ESTU_VALORMATRICULAUNIVERSIDAD',\n       'coef_1', 'coef_2', 'coef_3', 'coef_4', 'RENDIMIENTO_GLOBAL'],\n      dtype='object', length=1045)\n",
          "output_type": "stream"
        }
      ],
      "execution_count": null
    },
    {
      "cell_type": "markdown",
      "source": [
        "# Random Forest\n",
        "Random Forest es un modelo de aprendizaje automático que funciona como un conjunto de muchos árboles de decisión. Su lógica básica es:\n",
        "\n",
        "Crea muchos árboles: cada árbol se entrena con una parte diferente de los datos (muestra aleatoria).\n",
        "\n",
        "Divide por características aleatorias: en cada nodo del árbol, se consideran solo algunas características aleatorias para dividir, no todas.\n",
        "\n",
        "Predice con votos: para clasificación, cada árbol da un voto y gana la clase con más votos. Para regresión, se promedia el resultado de todos los árboles."
      ],
      "metadata": {
        "id": "c1pvP0mMtnsX"
      }
    },
    {
      "cell_type": "code",
      "source": [
        "from sklearn.model_selection import train_test_split\n",
        "from sklearn.ensemble import RandomForestClassifier\n",
        "from sklearn.metrics import accuracy_score, confusion_matrix, classification_report\n",
        "\n",
        "# 1. Separar variables predictoras y target\n",
        "X = z_final.drop(columns=['RENDIMIENTO_GLOBAL'])\n",
        "y = z_final['RENDIMIENTO_GLOBAL']\n",
        "\n",
        "# 2. Dividir los datos en entrenamiento y prueba\n",
        "X_train, X_test, y_train, y_test = train_test_split(X, y, test_size=0.2, random_state=42)\n",
        "\n",
        "# 3. Entrenar modelo Random Forest\n",
        "rf = RandomForestClassifier(n_estimators=100, random_state=42, n_jobs=-1)\n",
        "rf.fit(X_train, y_train)\n",
        "\n",
        "# 4. Evaluar el modelo\n",
        "y_pred = rf.predict(X_test)\n",
        "\n",
        "print(\"Accuracy:\", accuracy_score(y_test, y_pred))\n",
        "print(\"\\nMatriz de confusión:\\n\", confusion_matrix(y_test, y_pred))\n",
        "print(\"\\nReporte de clasificación:\\n\", classification_report(y_test, y_pred))"
      ],
      "metadata": {
        "id": "rhXHzWOrAGUB",
        "trusted": true,
        "execution": {
          "iopub.status.busy": "2025-07-01T23:08:16.882288Z",
          "iopub.execute_input": "2025-07-01T23:08:16.882789Z",
          "execution_failed": "2025-07-01T23:20:34.914Z"
        }
      },
      "outputs": [],
      "execution_count": null
    },
    {
      "cell_type": "code",
      "source": [
        "# Cargar test.csv\n",
        "test = pd.read_csv('test.csv')\n",
        "\n",
        "# Guardar ID para el submission final\n",
        "test_ids = test['ID']\n",
        "\n",
        "# Unir con z_final para aplicar las mismas transformaciones\n",
        "test_data = test.drop(columns=['ID'])  # quitar ID antes de aplicar get_dummies\n",
        "test_data_encoded = pd.get_dummies(test_data)\n",
        "\n",
        "# Asegurarse de que las columnas coincidan exactamente con las usadas para entrenar\n",
        "# Llenar con 0 las columnas que faltan y quitar las extras\n",
        "X_test_kaggle = test_data_encoded.reindex(columns=X.columns, fill_value=0)\n",
        "\n",
        "# Hacer la predicción\n",
        "preds = rf.predict(X_test_kaggle)\n",
        "\n",
        "# Armar el archivo de submission\n",
        "df_submit = pd.DataFrame({\n",
        "    'ID': test_ids,\n",
        "    'RENDIMIENTO_GLOBAL': preds\n",
        "})\n",
        "\n",
        "# Guardar como CSV\n",
        "df_submit.to_csv('submission.csv', index=False)\n",
        "print(\"Archivo 'submission.csv' creado ✔️\")"
      ],
      "metadata": {
        "trusted": true,
        "execution": {
          "execution_failed": "2025-07-01T23:20:34.915Z"
        },
        "id": "YbTud-BJthOA"
      },
      "outputs": [],
      "execution_count": null
    }
  ]
}